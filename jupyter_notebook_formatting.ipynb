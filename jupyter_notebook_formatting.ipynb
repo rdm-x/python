# Install and enable Black formattting
# !jupyter nbextension install https://github.com/drillan/jupyter-black/archive/master.zip --user
# !jupyter nbextension enable jupyter-black-master/jupyter-black

# !pip install jupyterthemes
# !jt -t solarizedl -cellw 90%
